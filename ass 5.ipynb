{
 "cells": [
  {
   "cell_type": "code",
   "execution_count": null,
   "id": "e8da189d",
   "metadata": {},
   "outputs": [],
   "source": [
    "Name: Shreyas R. Dumbre\n",
    "Roll No : 19\n",
    "BE IT (B1)"
   ]
  },
  {
   "cell_type": "code",
   "execution_count": 1,
   "id": "e81d605f",
   "metadata": {},
   "outputs": [
    {
     "data": {
      "text/plain": [
       "'We are about to study the idea of a computational process.\\nComputational processes are abstract beings that inhabit computers.\\nAs they evolve, processes manipulate other abstract things called data.\\nThe evolution of a process is directed by a pattern of rules\\ncalled a program. People create programs to direct processes. In effect,\\nwe conjure the spirits of the computer with our spells.'"
      ]
     },
     "execution_count": 1,
     "metadata": {},
     "output_type": "execute_result"
    }
   ],
   "source": [
    "\"\"\"We are about to study the idea of a computational process.\n",
    "Computational processes are abstract beings that inhabit computers.\n",
    "As they evolve, processes manipulate other abstract things called data.\n",
    "The evolution of a process is directed by a pattern of rules\n",
    "called a program. People create programs to direct processes. In effect,\n",
    "we conjure the spirits of the computer with our spells.\"\"\""
   ]
  },
  {
   "cell_type": "code",
   "execution_count": 7,
   "id": "a5eb538b",
   "metadata": {},
   "outputs": [],
   "source": [
    "import torch\n",
    "import numpy as np\n",
    "import torch.nn as nn\n",
    "import torch.nn.functional as F\n",
    "import torch.optim as optim\n",
    "from torch.autograd import Variable"
   ]
  },
  {
   "cell_type": "code",
   "execution_count": 8,
   "id": "4e42d56d",
   "metadata": {},
   "outputs": [
    {
     "data": {
      "text/plain": [
       "<torch._C.Generator at 0x1ab8a385d10>"
      ]
     },
     "execution_count": 8,
     "metadata": {},
     "output_type": "execute_result"
    }
   ],
   "source": [
    "torch.manual_seed(1)"
   ]
  },
  {
   "cell_type": "code",
   "execution_count": 9,
   "id": "2dc460dc",
   "metadata": {},
   "outputs": [],
   "source": [
    "# Implementing CBOW model for the exercise given by a tutorial in pytorch.org/tutorials/beginner/nlp/word_embeddings_tutorial.html\n",
    "context_size = 2 # {w_i-2 ... w_i ... w_i+2}\n",
    "embedding_dim = 10"
   ]
  },
  {
   "cell_type": "code",
   "execution_count": 10,
   "id": "c96371c4",
   "metadata": {},
   "outputs": [],
   "source": [
    "raw_text = \"\"\"We are about to study the idea of a computational process.\n",
    "Computational processes are abstract beings that inhabit computers.\n",
    "As they evolve, processes manipulate other abstract things called data.\n",
    "The evolution of a process is directed by a pattern of rules\n",
    "called a program. People create programs to direct processes. In effect,\n",
    "we conjure the spirits of the computer with our spells.\"\"\".split()"
   ]
  },
  {
   "cell_type": "code",
   "execution_count": 11,
   "id": "c8ec66b3",
   "metadata": {},
   "outputs": [],
   "source": [
    "def make_context_vector(context, word_to_idx):\n",
    "    idxs = [word_to_idx[w] for w in context]\n",
    "    return torch.tensor(idxs, dtype=torch.long)\n",
    "\n",
    "vocab = set(raw_text)\n",
    "vocab_size = len(vocab)\n",
    "\n",
    "word_to_idx = {word: i for i, word in enumerate(vocab)}\n",
    "idx_to_word = {i: word for i, word in enumerate(vocab)}\n",
    "\n",
    "data = []"
   ]
  },
  {
   "cell_type": "code",
   "execution_count": 12,
   "id": "ecf769a6",
   "metadata": {},
   "outputs": [],
   "source": [
    "\n",
    "for i in range(2, len(raw_text) - 2):\n",
    "    context = [raw_text[i-2], raw_text[i-1],\n",
    "               raw_text[i+1], raw_text[i+2]]\n",
    "    target = raw_text[i]\n",
    "    data.append((context, target))"
   ]
  },
  {
   "cell_type": "code",
   "execution_count": null,
   "id": "a06205af",
   "metadata": {},
   "outputs": [],
   "source": [
    "# Ge"
   ]
  },
  {
   "cell_type": "code",
   "execution_count": 13,
   "id": "1433e200",
   "metadata": {},
   "outputs": [],
   "source": [
    "class CBOW(nn.Module):\n",
    "    \n",
    "    def __init__(self, vocab_size, embedding_dim):\n",
    "        super(CBOW, self).__init__()\n",
    "        self.embeddings = nn.Embedding(vocab_size, embedding_dim)\n",
    "        self.proj = nn.Linear(embedding_dim, 128)\n",
    "        self.output = nn.Linear(128, vocab_size)\n",
    "        \n",
    "    def forward(self, inputs):\n",
    "        embeds = sum(self.embeddings(inputs)).view(1, -1)\n",
    "        out = F.relu(self.proj(embeds))\n",
    "        out = self.output(out)\n",
    "        nll_prob = F.log_softmax(out, dim=-1)\n",
    "        return nll_prob"
   ]
  },
  {
   "cell_type": "code",
   "execution_count": 14,
   "id": "f3ba2224",
   "metadata": {},
   "outputs": [],
   "source": [
    "model = CBOW(vocab_size, embedding_dim)\n",
    "optimizer = optim.SGD(model.parameters(), lr=0.001)\n",
    "\n",
    "losses = []\n",
    "loss_function = nn.NLLLoss()"
   ]
  },
  {
   "cell_type": "code",
   "execution_count": 15,
   "id": "cb14f26b",
   "metadata": {},
   "outputs": [
    {
     "name": "stdout",
     "output_type": "stream",
     "text": [
      "[235.3547396659851, 231.2504210472107, 227.28084659576416, 223.43712449073792, 219.7141547203064, 216.10481572151184, 212.6047966480255, 209.2084927558899, 205.91152381896973, 202.70872175693512, 199.59591102600098, 196.56743896007538, 193.62000679969788, 190.75147688388824, 187.9560902118683, 185.2296940088272, 182.5699644088745, 179.97185349464417, 177.43296229839325, 174.94851350784302, 172.5169186592102, 170.1332973241806, 167.79425406455994, 165.49802088737488, 163.24142158031464, 161.02096807956696, 158.83659052848816, 156.68791508674622, 154.57073199748993, 152.48405319452286, 150.42698520421982, 148.39951944351196, 146.40119564533234, 144.42999005317688, 142.4861866235733, 140.56787306070328, 138.67332816123962, 136.80279511213303, 134.9571778178215, 133.13518822193146, 131.33669871091843, 129.56229543685913, 127.80784606933594, 126.07720935344696, 124.3686358332634, 122.68193072080612, 121.01412802934647, 119.36949115991592, 117.74674564599991, 116.14425528049469, 114.56068485975266, 112.99638992547989, 111.45089781284332, 109.92645388841629, 108.4185346364975, 106.93212679028511, 105.46217346191406, 104.01193851232529, 102.57850006222725, 101.16399890184402, 99.76753598451614, 98.38907065987587, 97.02785429358482, 95.68386802077293, 94.35694420337677, 93.04814583063126, 91.75640892982483, 90.48186030983925, 89.22262611985207, 87.98284965753555, 86.75947001576424, 85.55140778422356, 84.36102682352066, 83.18723917007446, 82.02810183167458, 80.88697323203087, 79.75979653000832, 78.6489366889, 77.55461141467094, 76.4736153781414, 75.41068941354752, 74.36037436127663, 73.32419350743294, 72.30440330505371, 71.29875430464745, 70.30548828840256, 69.32749426364899, 68.36338722705841, 67.41240087151527, 66.47514280676842, 65.55222599208355, 64.64216138422489, 63.7458339035511, 62.86129319667816, 61.99146384000778, 61.13352331519127, 60.289133951067924, 59.456111431121826, 58.63670785725117, 57.8289882093668]\n"
     ]
    }
   ],
   "source": [
    "for epoch in range(100):\n",
    "    total_loss = 0\n",
    "    for context, target in data:\n",
    "        context_vector = make_context_vector(context, word_to_idx)\n",
    "        \n",
    "        # Remember PyTorch accumulates gradients; zero them out\n",
    "        model.zero_grad()\n",
    "        \n",
    "        nll_prob = model(context_vector)\n",
    "        loss = loss_function(nll_prob, Variable(torch.tensor([word_to_idx[target]])))\n",
    "        \n",
    "        # backpropagation\n",
    "        loss.backward()\n",
    "        # update the parameters\n",
    "        optimizer.step() \n",
    "        \n",
    "        total_loss += loss.item()\n",
    "        \n",
    "    losses.append(total_loss)\n",
    "\n",
    "print(losses)"
   ]
  },
  {
   "cell_type": "code",
   "execution_count": 16,
   "id": "e48fa698",
   "metadata": {},
   "outputs": [
    {
     "name": "stdout",
     "output_type": "stream",
     "text": [
      "*************************************************************************\n",
      "Raw text: We are about to study the idea of a computational process. Computational processes are abstract beings that inhabit computers. As they evolve, processes manipulate other abstract things called data. The evolution of a process is directed by a pattern of rules called a program. People create programs to direct processes. In effect, we conjure the spirits of the computer with our spells.\n",
      "\n",
      "Test Context: ['process.', 'Computational', 'are', 'abstract']\n",
      "\n",
      "Prediction: the\n"
     ]
    }
   ],
   "source": [
    "# Let's see if our CBOW model works or not\n",
    "\n",
    "print(\"*************************************************************************\")\n",
    "\n",
    "context = ['process.','Computational','are', 'abstract']\n",
    "context_vector = make_context_vector(context, word_to_idx)\n",
    "a = model(context_vector).data.numpy()\n",
    "print('Raw text: {}\\n'.format(' '.join(raw_text)))\n",
    "print('Test Context: {}\\n'.format(context))\n",
    "max_idx = np.argmax(a)\n",
    "print('Prediction: {}'.format(idx_to_word[max_idx]))"
   ]
  },
  {
   "cell_type": "code",
   "execution_count": 17,
   "id": "8cedbc70",
   "metadata": {},
   "outputs": [
    {
     "name": "stdout",
     "output_type": "stream",
     "text": [
      "Raw text: We are about to study the idea of a computational process. Computational processes are abstract beings that inhabit computers. As they evolve, processes manipulate other abstract things called data. The evolution of a process is directed by a pattern of rules called a program. People create programs to direct processes. In effect, we conjure the spirits of the computer with our spells.\n",
      "\n",
      "Test Context: ['processes', 'manipulate', 'abstract', 'things']\n",
      "\n",
      "Prediction: other\n"
     ]
    }
   ],
   "source": [
    "\n",
    "context = ['processes','manipulate','abstract', 'things']\n",
    "context_vector = make_context_vector(context, word_to_idx)\n",
    "a = model(context_vector).data.numpy()\n",
    "print('Raw text: {}\\n'.format(' '.join(raw_text)))\n",
    "print('Test Context: {}\\n'.format(context))\n",
    "max_idx = np.argmax(a)\n",
    "print('Prediction: {}'.format(idx_to_word[max_idx]))"
   ]
  },
  {
   "cell_type": "code",
   "execution_count": null,
   "id": "1b0c05c7",
   "metadata": {},
   "outputs": [],
   "source": []
  }
 ],
 "metadata": {
  "kernelspec": {
   "display_name": "Python 3 (ipykernel)",
   "language": "python",
   "name": "python3"
  },
  "language_info": {
   "codemirror_mode": {
    "name": "ipython",
    "version": 3
   },
   "file_extension": ".py",
   "mimetype": "text/x-python",
   "name": "python",
   "nbconvert_exporter": "python",
   "pygments_lexer": "ipython3",
   "version": "3.9.13"
  }
 },
 "nbformat": 4,
 "nbformat_minor": 5
}
